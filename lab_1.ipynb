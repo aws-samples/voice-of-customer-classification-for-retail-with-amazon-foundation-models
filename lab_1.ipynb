{
 "cells": [
  {
   "cell_type": "markdown",
   "id": "21b38396-4691-413b-9856-edd71a08c288",
   "metadata": {
    "tags": []
   },
   "source": [
    "# Lab1 Intro\n",
    "In the retail industry, understanding the Voice of the Customer (VOC) is crucial for gaining insights into customer preferences and pain points. By analyzing and categorizing customer feedback, retailers can improve their products, services, and overall customer experience.\n",
    "\n",
    "This hands-on workshop guides participants through the process of classifying Voice of Customer (VOC) data using Amazon Foundation Model on Amazon Bedrock.\n",
    "You will be provided with sample data and will be tasked with classifying customer feedback into categories and generating a summary analysis report.\n",
    "\n",
    "- First, you will learn how to use Prompt Engineering to classify customer feedback.\n",
    "- Then, you will explore the concept of embedding techniques and use them to classify customer feedback by semantic comparison.\n",
    "- After that, you will be provided with additional example data. You will explore the concept of retrieval augmented generation (RAG) and use it to enhance the classification process by dynamically retrieving relevant few-shot examples.\n",
    "- At the end of the workshop, you will be able to generate a comprehensive analysis report that provides insights into the VOC data and helps retailers improve their products and services.\n",
    "\n",
    "### A task of developing a VoC Classifier has been assigned to you:\n",
    "You will be provided with a sample dataset in \"data/comments.csv\", each record represents a customer comment and its corresponding groundtruth category. You need to write prompt to perform the classification task using the Amazon Foundation Model, and then compare the prediction result with the groundtruth and calculate the accuracy.\n",
    "\n",
    "### Your objectives are:\n",
    "\n",
    "- Classify each customer feedback comment into 35+ categories\n",
    "- Provide the reasoning behind each classification\n",
    "- Summarize each customer comment in a brief description\n",
    "\n"
   ]
  },
  {
   "cell_type": "markdown",
   "id": "1885f205-3b90-4d03-8c9d-0e763047c192",
   "metadata": {},
   "source": [
    "## 1. Install dependencies\n",
    "- If you experince \"ERROR: pip's dependency resolver does not currently...\", please just ignore it"
   ]
  },
  {
   "cell_type": "code",
   "execution_count": null,
   "id": "b0f625de-1ca3-4167-a158-2628994ff090",
   "metadata": {
    "tags": []
   },
   "outputs": [],
   "source": [
    "!pip install --upgrade pip\n",
    "!pip install -q langchain==0.2.16 langchain_aws==0.1.17 pandas==2.2.2 openpyxl==3.1.5 termcolor==2.4.0 python-dotenv==1.0.1"
   ]
  },
  {
   "cell_type": "markdown",
   "id": "6b9a39f8-d017-4bd3-b289-dab163db7da2",
   "metadata": {},
   "source": [
    "## 2. Initialize Bedrock model using LangChain\n",
    "- First let's see what Amazon Foundation LLMs (Large Language Models) we have in Amazon Bedrock "
   ]
  },
  {
   "cell_type": "code",
   "execution_count": null,
   "id": "f8723c73-8147-42ed-a5a0-bdb0851db0f7",
   "metadata": {
    "tags": []
   },
   "outputs": [],
   "source": [
    "import boto3\n",
    "import json\n",
    "import copy\n",
    "import pandas as pd\n",
    "from termcolor import colored\n",
    "# create clients of bedrock\n",
    "bedrock = boto3.client(service_name='bedrock')\n",
    "bedrock_runtime = boto3.client(service_name='bedrock-runtime') \n",
    "pd.set_option('display.max_rows', None)\n",
    "results = []\n",
    "\n",
    "available_models = bedrock.list_foundation_models()\n",
    "for model in available_models['modelSummaries']:\n",
    "    if 'Amazon' in model['providerName'] and 'TEXT' in model['outputModalities']: \n",
    "        results.append({\n",
    "            'Model Name': model['modelName'],\n",
    "            'Model ID': model['modelId'],  # Add Model ID column\n",
    "            'Provider': model['providerName'],\n",
    "            'Input Modalities': ', '.join(model['inputModalities']),\n",
    "            'Output Modalities': ', '.join(model['outputModalities']),\n",
    "            'Streaming': model.get('responseStreamingSupported', 'N/A'),\n",
    "            'Status': model['modelLifecycle']['status']\n",
    "        })\n",
    "\n",
    "df = pd.DataFrame(results)\n",
    "display(df)\n",
    "\n",
    "pd.reset_option('display.max_rows')"
   ]
  },
  {
   "cell_type": "markdown",
   "id": "2a80647c-214f-4b5b-bea1-5676af790fc3",
   "metadata": {},
   "source": [
    "We employ the Langchain SDK to configure and initiate a test interaction with the Amazon Foundation Model.\n",
    "- Import [Langchain](https://www.langchain.com/) SDK to build the application\n",
    "- Initialize a ChatBedrock object with Amzon Foundation model, the model id is <span style=\"color: blue;\">\"amazon.nova-pro-v1:0\"</span>"
   ]
  },
  {
   "cell_type": "markdown",
   "id": "7a1bd09a-381a-4a32-bc8c-e6f05137419d",
   "metadata": {},
   "source": [
    "#### Customzie a LangChain ChatModel Class\n",
    "- As the time of this event, LangChain has not supported the latest Amazon Foundation Model yet, we will customize a LangChain Chat Model Class, so that the latest model can be integrated with the chain prompting in LangChain."
   ]
  },
  {
   "cell_type": "code",
   "execution_count": null,
   "id": "e6e386d1-2ac3-4b34-b678-b8a0b2d08868",
   "metadata": {
    "tags": []
   },
   "outputs": [],
   "source": [
    "import boto3\n",
    "import json\n",
    "from botocore.exceptions import ClientError\n",
    "import dotenv\n",
    "import os\n",
    "dotenv.load_dotenv()\n",
    "\n",
    "from typing import Any, AsyncIterator, Dict, Iterator, List, Optional\n",
    "\n",
    "from langchain_core.callbacks import (\n",
    "    AsyncCallbackManagerForLLMRun,\n",
    "    CallbackManagerForLLMRun,\n",
    ")\n",
    "from langchain_core.language_models import BaseChatModel, SimpleChatModel\n",
    "from langchain_core.messages import AIMessageChunk, BaseMessage, HumanMessage,AIMessage,SystemMessage\n",
    "from langchain_core.outputs import ChatGeneration, ChatGenerationChunk, ChatResult\n",
    "from langchain_core.runnables import run_in_executor\n",
    "from langchain.callbacks.streaming_stdout import StreamingStdOutCallbackHandler\n",
    "from langchain_core.output_parsers import StrOutputParser,XMLOutputParser\n",
    "from langchain_core.prompts import ChatPromptTemplate,MessagesPlaceholder,HumanMessagePromptTemplate\n",
    "\n",
    "\n",
    "class ChatModelNova(BaseChatModel):\n",
    "\n",
    "    model_name: str\n",
    "    br_runtime : Any = None\n",
    "    ak: str = None\n",
    "    sk: str = None\n",
    "    region:str = None\n",
    "\n",
    "    def _generate(\n",
    "        self,\n",
    "        messages: List[BaseMessage],\n",
    "        stop: Optional[List[str]] = None,\n",
    "        run_manager: Optional[CallbackManagerForLLMRun] = None,\n",
    "        **kwargs: Any,\n",
    "    ) -> ChatResult:\n",
    "\n",
    "        if not self.br_runtime:\n",
    "            if self.ak and self.sk:\n",
    "                self.br_runtime = boto3.client(service_name = 'bedrock-runtime',\n",
    "                                               region_name = self.region,\n",
    "                                              aws_access_key_id = self.ak,\n",
    "                                               aws_secret_access_key = self.sk\n",
    "                                              )\n",
    "            else:\n",
    "                self.br_runtime = boto3.client(service_name = 'bedrock-runtime')\n",
    "            \n",
    "        \n",
    "        new_messages = []\n",
    "        system_message = ''\n",
    "        for msg in messages:\n",
    "            if isinstance(msg,SystemMessage):\n",
    "                system_message = msg.content\n",
    "            elif isinstance(msg,HumanMessage):\n",
    "                new_messages.append({\n",
    "                        \"role\": \"user\",\n",
    "                        \"content\": [ {\"text\": msg.content}]\n",
    "                    })\n",
    "            elif isinstance(msg,AIMessage):\n",
    "                new_messages.append({\n",
    "                        \"role\": \"assistant\",\n",
    "                        \"content\": [ {\"text\": msg.content}]\n",
    "                    })\n",
    "\n",
    "        \n",
    "        temperature = kwargs.get('temperature',0.1)\n",
    "        maxTokens = kwargs.get('max_tokens',3000)\n",
    "\n",
    "        #Base inference parameters to use.\n",
    "        inference_config = {\"temperature\": temperature,\"maxTokens\":maxTokens}\n",
    "\n",
    "\n",
    "        # Send the message.\n",
    "        response = self.br_runtime.converse(\n",
    "            modelId=self.model_name,\n",
    "            messages=new_messages,\n",
    "            system=[{\"text\" : system_message}] if system_message else [],\n",
    "            inferenceConfig=inference_config\n",
    "        )\n",
    "        output_message = response['output']['message']\n",
    "\n",
    "        message = AIMessage(\n",
    "            content=output_message['content'][0]['text'],\n",
    "            additional_kwargs={},  # Used to add additional payload (e.g., function calling request)\n",
    "            response_metadata={  # Use for response metadata\n",
    "                **response['usage']\n",
    "            },\n",
    "        )\n",
    "        generation = ChatGeneration(message=message)\n",
    "        return ChatResult(generations=[generation])\n",
    "\n",
    "\n",
    "    def _stream(\n",
    "        self,\n",
    "        messages: List[BaseMessage],\n",
    "        stop: Optional[List[str]] = None,\n",
    "        run_manager: Optional[CallbackManagerForLLMRun] = None,\n",
    "        **kwargs: Any,\n",
    "    ) -> Iterator[ChatGenerationChunk]:\n",
    "        if not self.br_runtime:\n",
    "            if self.ak and self.sk:\n",
    "                self.br_runtime = boto3.client(service_name = 'bedrock-runtime',\n",
    "                                               region_name = self.region,\n",
    "                                              aws_access_key_id = self.ak,\n",
    "                                               aws_secret_access_key = self.sk\n",
    "                                              )\n",
    "\n",
    "            else:\n",
    "                self.br_runtime = boto3.client(service_name = 'bedrock-runtime')\n",
    "            \n",
    "        \n",
    "        new_messages = []\n",
    "        system_message = ''\n",
    "        for msg in messages:\n",
    "            if isinstance(msg,SystemMessage):\n",
    "                system_message = msg.content\n",
    "            elif isinstance(msg,HumanMessage):\n",
    "                new_messages.append({\n",
    "                        \"role\": \"user\",\n",
    "                        \"content\": [ {\"text\": msg.content}]\n",
    "                    })\n",
    "            elif isinstance(msg,AIMessage):\n",
    "                new_messages.append({\n",
    "                        \"role\": \"assistant\",\n",
    "                        \"content\": [ {\"text\": msg.content}]\n",
    "                    })\n",
    "\n",
    "        \n",
    "        temperature = kwargs.get('temperature',0.1)\n",
    "        maxTokens = kwargs.get('max_tokens',3000)\n",
    "\n",
    "        #Base inference parameters to use.\n",
    "        inference_config = {\"temperature\": temperature,\"maxTokens\":maxTokens}\n",
    "\n",
    "        # Send the message.\n",
    "        streaming_response = self.br_runtime.converse_stream(\n",
    "            modelId=self.model_name,\n",
    "            messages=new_messages,\n",
    "            system=[{\"text\" : system_message}] if system_message else [],\n",
    "            inferenceConfig=inference_config\n",
    "        )\n",
    "        # Extract and print the streamed response text in real-time.\n",
    "        for event in streaming_response[\"stream\"]:\n",
    "            if \"contentBlockDelta\" in event:\n",
    "                text = event[\"contentBlockDelta\"][\"delta\"][\"text\"]\n",
    "                # print(text, end=\"\")\n",
    "                chunk = ChatGenerationChunk(message=AIMessageChunk(content=[{\"type\":\"text\",\"text\":text}]))\n",
    "\n",
    "                if run_manager:\n",
    "                    # This is optional in newer versions of LangChain\n",
    "                    # The on_llm_new_token will be called automatically\n",
    "                    run_manager.on_llm_new_token(text, chunk=chunk)\n",
    "\n",
    "                yield chunk\n",
    "            if 'metadata' in event:\n",
    "                metadata = event['metadata']\n",
    "                # Let's add some other information (e.g., response metadata)\n",
    "                chunk = ChatGenerationChunk(\n",
    "                    message=AIMessageChunk(content=\"\", response_metadata={**metadata})\n",
    "                )\n",
    "                if run_manager:\n",
    "\n",
    "                    run_manager.on_llm_new_token('', chunk=chunk)\n",
    "                yield chunk\n",
    "\n",
    "    @property\n",
    "    def _llm_type(self) -> str:\n",
    "        \"\"\"Get the type of language model used by this chat model.\"\"\"\n",
    "        return \"echoing-chat-model-advanced\"\n",
    "\n",
    "    @property\n",
    "    def _identifying_params(self) -> Dict[str, Any]:\n",
    "        \"\"\"Return a dictionary of identifying parameters.\n",
    "\n",
    "        This information is used by the LangChain callback system, which\n",
    "        is used for tracing purposes make it possible to monitor LLMs.\n",
    "        \"\"\"\n",
    "        return {\n",
    "            \"model_name\": self.model_name,\n",
    "        }\n",
    "\n",
    "llm = ChatModelNova(model_name=\"amazon.nova-pro-v1:0\" )\n"
   ]
  },
  {
   "cell_type": "markdown",
   "id": "03f18fa1-aa33-4585-956f-697225850adc",
   "metadata": {},
   "source": [
    "Now, we'll conduct a test run with the Amazon Foundation Model, tasking it to perform a language translation."
   ]
  },
  {
   "cell_type": "code",
   "execution_count": null,
   "id": "c7e72624-2669-441e-92b4-ade4d14229a2",
   "metadata": {
    "tags": []
   },
   "outputs": [],
   "source": [
    "messages = [\n",
    "    (\n",
    "        \"system\",\n",
    "        \"You are a helpful assistant that translates English to French. Translate the user sentence.\",\n",
    "    ),\n",
    "    (\"human\", \"I love programming.\"),\n",
    "]\n",
    "llm.invoke(messages)"
   ]
  },
  {
   "cell_type": "markdown",
   "id": "c2de2c96-c8ec-486a-ac7d-07e792132184",
   "metadata": {},
   "source": [
    "## 3. Preparing the Dataset to be classified. \n",
    "In this section, we will examine the provided Voice of Customers dataset, explore its contents, and identify all the groundtruth categories it includes.\n",
    "- The data (Voice of Customers) is subject to experiment usage only"
   ]
  },
  {
   "cell_type": "markdown",
   "id": "10536914-c87c-4677-b181-7751aec0cb60",
   "metadata": {},
   "source": [
    "### Load the customer review data"
   ]
  },
  {
   "cell_type": "markdown",
   "id": "48ce8465-7a4e-4bbf-8f0f-bb685b1cc7dd",
   "metadata": {},
   "source": [
    "- Load the examples data\n",
    "\n",
    "\n",
    "From the displayed dataset, we can observe that it consists of two columns: 'comment' and 'groundtruth'. The 'comment' column contains collected customer feedback, while the 'groundtruth' column specifies the categories to which each comment belongs."
   ]
  },
  {
   "cell_type": "code",
   "execution_count": null,
   "id": "991a2482-4559-4375-a542-dc109432cdb5",
   "metadata": {
    "tags": []
   },
   "outputs": [],
   "source": [
    "comments_filepath = \"data/comments.csv\"\n",
    "comments = pd.read_csv(comments_filepath)\n",
    "display(comments)"
   ]
  },
  {
   "cell_type": "markdown",
   "id": "e15bc7c0-158c-4d32-87e4-8482c46d8a30",
   "metadata": {},
   "source": [
    "- List categories values\n",
    "\n",
    "The printed output displays all the categories contained within this dataset."
   ]
  },
  {
   "cell_type": "code",
   "execution_count": null,
   "id": "cd36568b-b6b5-4637-b5d7-9b5ec6e96eef",
   "metadata": {
    "tags": []
   },
   "outputs": [],
   "source": [
    "category_definition = \"data/categories.csv\"\n",
    "categories = pd.read_csv(category_definition)\n",
    "display(categories['mappings'].values)"
   ]
  },
  {
   "cell_type": "markdown",
   "id": "59144bb2-f7e8-4bce-898b-b45db936f5f5",
   "metadata": {},
   "source": [
    "## 4. Define system prompt and user prompt template\n",
    "\n",
    "Below, we have outlined templates for both the system prompt and the user prompt. We will use it to guide the Amazon Foundataion model to perform the classification tasks.\n",
    "\n",
    "Examing the template, there are a few elements that make this prompt efffective for guiding the model in classifying customer feedback accurately. For both prompt, they clearly defines the role of the model as a professional customer feedback analyst and includes detailed, step-by-step instructions on how the classification should be conducted, the format of the output, the tone to be maintained, and specific guidance on handling ambiguous cases."
   ]
  },
  {
   "cell_type": "code",
   "execution_count": null,
   "id": "b545c922-9f9a-4b6e-8186-a8aa49ffeec7",
   "metadata": {
    "tags": []
   },
   "outputs": [],
   "source": [
    "system = \"\"\"You are a professional  customer feedback analyst. Your daily task is to categorize user feedback.\n",
    "You will be given an input in the form of a JSON array. Each object in the array contains a comment ID and a 'c' field representing the user's comment content.\n",
    "Your role is to analyze these comments and categorize them appropriately.\n",
    "Please note:\n",
    "1. Only output valid XML format data.\n",
    "2. Do not include any explanations or additional text outside the XML structure.\n",
    "3. Ensure your categorization is accurate and consistent.\n",
    "4. If you encounter any ambiguous cases, use your best judgment based on the context provided.\n",
    "5. Maintain a professional and neutral tone in your categorizations.\n",
    "\"\"\"\n",
    "\n",
    "user = \"\"\"\n",
    "Please categorize user comments according to the following category tags library:\n",
    "<categories>\n",
    "{tags}\n",
    "</categories>\n",
    "\n",
    "Please follow these instructions for categorization:\n",
    "<instruction>\n",
    "1. Categorize each comment using the tags above. If no tags apply, output \"Others\".\n",
    "2. Summarize the comment content in no more than 50 words. Replace any double quotation marks with single quotation marks.\n",
    "</instruction>\n",
    "\n",
    "Below are the customer comments records to be categorized. The input is an array, where each element has an 'id' field representing the complaint ID and a 'c' field summarizing the complaint content.\n",
    "<comments>\n",
    "{input}\n",
    "</comments>\n",
    "\n",
    "For each record, summarize the comment, categorize according to the category explainations, and return the  ID, summary , reasons for tag matches, and category.\n",
    "\n",
    "Output format example:\n",
    "<output>\n",
    "  <item>\n",
    "    <id>xxx</id>\n",
    "    <summary>xxx</summary>\n",
    "    <reason>xxx</reason>\n",
    "    <category>xxx</category>\n",
    "  </item>\n",
    "</output>\n",
    "\n",
    "Skip the preamble and output only valid XML format data. Remember:\n",
    "- Avoid double quotation marks within quotation marks. Use single quotation marks instead.\n",
    "- Replace any double quotation marks in the content with single quotation marks.\n",
    "\"\"\""
   ]
  },
  {
   "cell_type": "markdown",
   "id": "6f8c2fce-f45e-4037-bb65-fe971b6bf7ad",
   "metadata": {},
   "source": [
    "## 5. Define LangChain prompting chain"
   ]
  },
  {
   "cell_type": "markdown",
   "id": "5dd087dc-4da6-4418-8109-9c395abec3d3",
   "metadata": {},
   "source": [
    "- Create a langchain chat template\n",
    "  \n",
    "We use the prompt templated provided above to create a Langchain chat template, which will be used later for the chat model. The categories contained within the dataset are passed into the template as variables.\n",
    "Then, using the prompt and Amazon foundation model we defined earlier, we construct a Langchain prompting chain to carry out the classification task."
   ]
  },
  {
   "cell_type": "code",
   "execution_count": null,
   "id": "53018dbe-a33e-4d98-936c-760f520b2631",
   "metadata": {
    "tags": []
   },
   "outputs": [],
   "source": [
    "prompt = ChatPromptTemplate([\n",
    "    ('system',system),\n",
    "    ('user',user),\n",
    "    ],\n",
    "    partial_variables={'tags':categories['mappings'].values}\n",
    ")\n",
    "chain = prompt | llm | XMLOutputParser()"
   ]
  },
  {
   "cell_type": "markdown",
   "id": "14de4ac3-debe-4236-8bbc-aa0bd04078a0",
   "metadata": {},
   "source": [
    "- convert the comments to data array\n",
    "\n",
    "In this step, we will transform the 'comment' column of the dataset into a structured data array. Each element of this array will include both an index and the corresponding comment content. This formatted data will then be used as input for the Amazon foundation model to classify."
   ]
  },
  {
   "cell_type": "code",
   "execution_count": null,
   "id": "517c73ad-e2b2-4f01-93eb-3b2b2e161b04",
   "metadata": {
    "tags": []
   },
   "outputs": [],
   "source": [
    "sample_data = [str({\"id\":'s_'+str(i),\"comment\":x[0]}) for i,x in enumerate(comments.values)]\n",
    "print(\"\\n\".join(sample_data[:3]))"
   ]
  },
  {
   "cell_type": "markdown",
   "id": "e65ca1fe-ef73-4a87-bc70-9e56ecb228f3",
   "metadata": {
    "tags": []
   },
   "source": [
    "### We will run classfication in batches (20 records per batch)\n",
    "* This cell will take around 2 mins to complete\n",
    "* <span style=\"color: red;\">Hint!</span> Due to the uncertainly of LLM generation, the JSON output might fail occasionally, if you happen to experience error such as `KeyError: 'output'`, please re-run the cell again"
   ]
  },
  {
   "cell_type": "code",
   "execution_count": null,
   "id": "c97e32d6-abca-4d0b-b1bf-e61608e21ddf",
   "metadata": {
    "tags": []
   },
   "outputs": [],
   "source": [
    "%%time\n",
    "\n",
    "import math,json,time\n",
    "batch_size = 20\n",
    "batch = math.ceil(comments.shape[0]/batch_size)\n",
    "i = 0\n",
    "resps = []\n",
    "for i in range(batch):\n",
    "    print(colored(f\"****[{i}]*****\\n\",\"blue\"))\n",
    "    data = sample_data[i*batch_size:(i+1)*batch_size]\n",
    "    resp = chain.invoke(data)\n",
    "    print(colored(f\"****response*****\\n{resp}\",\"green\"))\n",
    "    for item in resp['output']:\n",
    "        row={}\n",
    "        for it in item['item']:\n",
    "            row[list(it.keys())[0]]=list(it.values())[0]\n",
    "        resps.append(row)\n",
    "    # time.sleep(10)"
   ]
  },
  {
   "cell_type": "markdown",
   "id": "82ee470b-95d3-40f9-b762-790233434503",
   "metadata": {},
   "source": [
    "- covert the data array to pandas dataframe\n",
    "\n",
    "We transform the data array, which now contains the output generated by the LLM, into a dataframe for further analysis and review."
   ]
  },
  {
   "cell_type": "code",
   "execution_count": null,
   "id": "06c9cf8a-8969-4e82-a703-3308e98ee31e",
   "metadata": {
    "tags": []
   },
   "outputs": [],
   "source": [
    "prediction_df = pd.DataFrame(resps).rename(columns={\"category\":\"predict_label\"}).drop_duplicates(['id']).reset_index(drop='index')\n",
    "# convert the label value to lowercase\n",
    "prediction_df['predict_label'] = prediction_df['predict_label'].apply(lambda x: x.strip().lower().replace(\"'\",\"\"))\n",
    "prediction_df"
   ]
  },
  {
   "cell_type": "markdown",
   "id": "16bb6d79-8b21-49c6-a9f2-a513883af75e",
   "metadata": {},
   "source": [
    "### Merge the prediction result to ground truth dataframe"
   ]
  },
  {
   "cell_type": "markdown",
   "id": "64419307-5830-4cd3-85b9-25ad539a89a1",
   "metadata": {},
   "source": [
    "- copy comments to ground_truth dataframe\n",
    "- merge the date prediction to the groudtruth data"
   ]
  },
  {
   "cell_type": "code",
   "execution_count": null,
   "id": "ee2674b8-5dfc-4c00-bafc-bd5f7d2f5e9f",
   "metadata": {
    "tags": []
   },
   "outputs": [],
   "source": [
    "ground_truth = comments.copy()\n",
    "# convert the label value to lowercase\n",
    "ground_truth['groundtruth'] = ground_truth['groundtruth'].apply(lambda x: x.strip().lower())\n",
    "merge_df=pd.concat([ground_truth,prediction_df],axis=1)\n",
    "merge_df"
   ]
  },
  {
   "cell_type": "markdown",
   "id": "b078fe59-5de8-482b-ad5b-8a8c42eec6a3",
   "metadata": {},
   "source": [
    "## 6.Calculate the accuracy"
   ]
  },
  {
   "cell_type": "code",
   "execution_count": null,
   "id": "d4177fd7-0899-4b6b-8227-1a2e6364985d",
   "metadata": {
    "tags": []
   },
   "outputs": [],
   "source": [
    "def check_contains(row):\n",
    "    return row['groundtruth'] in row['predict_label']\n",
    "matches = merge_df.apply(check_contains, axis=1)\n",
    "count = matches.sum()\n",
    "print(colored(f\"accuracy: {count/len(merge_df)*100:.2f}%\",\"green\"))"
   ]
  },
  {
   "cell_type": "markdown",
   "id": "aaa44656-6704-4de1-a789-7cf9643ebe14",
   "metadata": {},
   "source": [
    "### List all wrong classified records\n",
    "\n",
    "The accuracy of our classification task has been calculated. To gain a better understanding and improve our model's performance, we can further investigate the instances where the classification was incorrect. This can be done by executing the code below."
   ]
  },
  {
   "cell_type": "code",
   "execution_count": null,
   "id": "18bb628f-febd-434e-8aca-63f093960c6c",
   "metadata": {
    "tags": []
   },
   "outputs": [],
   "source": [
    "def check_not_contains(row):\n",
    "    return row['groundtruth'] not in row['predict_label']\n",
    "merge_df[merge_df.apply(check_not_contains, axis=1)]"
   ]
  },
  {
   "cell_type": "markdown",
   "id": "3fbb8b9b-c7af-40ee-beab-e8cf6d01e094",
   "metadata": {},
   "source": [
    "### Save the result "
   ]
  },
  {
   "cell_type": "code",
   "execution_count": null,
   "id": "cdeca0a7-df9f-46aa-a0f5-109505e1166e",
   "metadata": {
    "tags": []
   },
   "outputs": [],
   "source": [
    "merge_df.to_csv('result_lab_1.csv',index=False)"
   ]
  },
  {
   "attachments": {
    "037d599e-195c-4a30-b4ec-1ac3fff5a709.png": {
     "image/png": "[encoded data removed]"
    }
   },
   "cell_type": "markdown",
   "id": "d8b03147-7c32-446b-8854-3b6d479b1630",
   "metadata": {},
   "source": [
    "# If you want to view the detail, please right click the \"result_lab_1.csv\" file, download to local disk\n",
    "![image.png](attachment:037d599e-195c-4a30-b4ec-1ac3fff5a709.png)"
   ]
  },
  {
   "cell_type": "code",
   "execution_count": null,
   "id": "43448bd3-8a72-4c09-82d6-0e37d87eccaa",
   "metadata": {},
   "outputs": [],
   "source": []
  },
  {
   "cell_type": "code",
   "execution_count": null,
   "id": "89a755d4-47f5-4164-b629-fb5e7a50f05d",
   "metadata": {},
   "outputs": [],
   "source": []
  }
 ],
 "metadata": {
  "kernelspec": {
   "display_name": "conda_python3",
   "language": "python",
   "name": "conda_python3"
  },
  "language_info": {
   "codemirror_mode": {
    "name": "ipython",
    "version": 3
   },
   "file_extension": ".py",
   "mimetype": "text/x-python",
   "name": "python",
   "nbconvert_exporter": "python",
   "pygments_lexer": "ipython3",
   "version": "3.10.15"
  }
 },
 "nbformat": 4,
 "nbformat_minor": 5
}
